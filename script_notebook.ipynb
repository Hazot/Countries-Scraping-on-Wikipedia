{
 "cells": [
  {
   "cell_type": "code",
   "execution_count": 1,
   "id": "2fb40cda",
   "metadata": {},
   "outputs": [],
   "source": [
    "import pandas as pd\n",
    "import numpy as np\n",
    "from statistics import mode\n",
    "from sklearn.linear_model import LinearRegression\n",
    "import scipy.stats as stats\n",
    "import itertools\n",
    "from sklearn.decomposition import PCA\n",
    "import matplotlib.pyplot as plt\n",
    "from sklearn.manifold import Isomap\n",
    "from sklearn.naive_bayes import GaussianNB\n",
    "from sklearn.metrics import accuracy_score\n",
    "from pomegranate import BernoulliDistribution, DiscreteDistribution, ConditionalProbabilityTable\n",
    "from pomegranate import Node, BayesianNetwork, NaiveBayes\n",
    "import json"
   ]
  },
  {
   "cell_type": "code",
   "execution_count": 2,
   "id": "4361a9ff",
   "metadata": {},
   "outputs": [],
   "source": [
    "# file1=pd.read_csv(\"table1.csv\")\n",
    "# file2=pd.read_csv(\"table2.csv\")\n",
    "# file3=pd.read_csv(\"table3.csv\")\n",
    "# file4=pd.read_csv(\"table4.csv\")\n",
    "# file5=pd.read_csv(\"table5.csv\")\n",
    "# file6=pd.read_csv(\"table6.csv\")\n",
    "# file7=pd.read_csv(\"table7.csv\")\n",
    "# file8=pd.read_csv(\"table8.csv\")\n",
    "# file9=pd.read_csv(\"table9.csv\")\n",
    "# file10=pd.read_csv(\"table10.csv\")\n",
    "# file11=pd.read_csv(\"table11.csv\")\n",
    "# file12=pd.read_csv(\"table12.csv\")\n",
    "# file13=pd.read_csv(\"table13.csv\")\n",
    "# file14=pd.read_csv(\"table14.csv\")\n",
    "# file15=pd.read_csv(\"table15.csv\")\n",
    "# file16=pd.read_csv(\"table16.csv\")\n",
    "# file17=pd.read_csv(\"table17.csv\")\n",
    "# file18=pd.read_csv(\"table18.csv\")\n",
    "# file19=pd.read_csv(\"table19.csv\")\n",
    "# file20=pd.read_csv(\"table20.csv\")\n",
    "# file21=pd.read_csv(\"table21.csv\")\n",
    "# file22=pd.read_csv(\"table22.csv\")\n",
    "# file23=pd.read_csv(\"table23.csv\")\n",
    "# file24=pd.read_csv(\"table24.csv\")\n",
    "# file25=pd.read_csv(\"table25.csv\")\n",
    "# file26=pd.read_csv(\"table26.csv\")\n",
    "# file27=pd.read_csv(\"table27.csv\")\n",
    "# file28=pd.read_csv(\"table28.csv\")\n",
    "# file29=pd.read_csv(\"table29.csv\")\n",
    "# file30=pd.read_csv(\"table30.csv\")\n",
    "# file31=pd.read_csv(\"table31.csv\")\n",
    "# file32=pd.read_csv(\"table32.csv\")\n",
    "# file33=pd.read_csv(\"table33.csv\")\n",
    "# file34=pd.read_csv(\"table34.csv\")\n",
    "# file35=pd.read_csv(\"table35.csv\")\n",
    "# file36=pd.read_csv(\"table36.csv\")\n",
    "# file37=pd.read_csv(\"table37.csv\")\n",
    "# file38=pd.read_csv(\"table38.csv\")\n",
    "# file39=pd.read_csv(\"table39.csv\")\n",
    "# file40=pd.read_csv(\"table40.csv\")\n",
    "# list_file = [file1, file2, file3, file4, file5, file6, file7, file8, file9, file10, file11, file12, file13, file14, file15,\n",
    "#             file16, file17, file18, file19, file20, file21, file22, file23, file24, file25, file26, file27, file28, file29,\n",
    "#             file30, file31, file32, file33, file34, file35, file36, file37, file38, file39, file40]"
   ]
  },
  {
   "cell_type": "code",
   "execution_count": 3,
   "id": "609704c7",
   "metadata": {},
   "outputs": [],
   "source": [
    "# file_totat=file_total=file1.merge(file2)\n",
    "# for file in list_file:\n",
    "#     file_total = file_total.merge(file,how=\"outer\", on=[\"Country\"])"
   ]
  },
  {
   "cell_type": "markdown",
   "id": "3e7750eb",
   "metadata": {},
   "source": [
    "# Question 1"
   ]
  },
  {
   "cell_type": "code",
   "execution_count": 3,
   "id": "95dcc2c6",
   "metadata": {},
   "outputs": [],
   "source": [
    "fileA=pd.read_csv(\"./data/data_scraped.csv\")\n",
    "nom_col = list(fileA.columns)"
   ]
  },
  {
   "cell_type": "code",
   "execution_count": 4,
   "id": "2c636899",
   "metadata": {},
   "outputs": [],
   "source": [
    "# nom_col"
   ]
  },
  {
   "cell_type": "code",
   "execution_count": 7,
   "id": "40709250",
   "metadata": {},
   "outputs": [],
   "source": [
    "# fileA"
   ]
  },
  {
   "cell_type": "code",
   "execution_count": 8,
   "id": "a3ca95aa",
   "metadata": {},
   "outputs": [],
   "source": [
    "array_dataA = np.array(fileA)"
   ]
  },
  {
   "cell_type": "code",
   "execution_count": 9,
   "id": "b0b123db",
   "metadata": {},
   "outputs": [],
   "source": [
    "# array_dataA "
   ]
  },
  {
   "cell_type": "code",
   "execution_count": 10,
   "id": "a8a4aa8c",
   "metadata": {},
   "outputs": [],
   "source": [
    "means = []\n",
    "mediannes = []\n",
    "maximums = []\n",
    "modes = []\n",
    "minimums = []\n",
    "variances = []\n",
    "nb_manquantes = []"
   ]
  },
  {
   "cell_type": "code",
   "execution_count": 11,
   "id": "08d1bb85",
   "metadata": {},
   "outputs": [],
   "source": [
    "for i in range(1,41):\n",
    "    col = array_dataA[:,i]\n",
    "    col = col.astype(\"float\")\n",
    "    means.append(np.nanmean(col,dtype=\"float\"))\n",
    "    mediannes.append(np.nanmedian(col))\n",
    "    maximums.append(np.nanmax(col))\n",
    "    modes = mode(col)\n",
    "    minimums.append(np.nanmin(col))\n",
    "    variances.append(np.nanvar(col))\n",
    "    nb_manquantes.append(len([x for x in col if pd.isna(x)]))"
   ]
  },
  {
   "cell_type": "code",
   "execution_count": 12,
   "id": "9b256143",
   "metadata": {},
   "outputs": [],
   "source": [
    "# Enlever ligne avec valeur manquante\n",
    "array_moins_douze = []\n",
    "for row in array_dataA:\n",
    "    nb_nan=0\n",
    "    for i in row:\n",
    "        if (pd.isna(i)):\n",
    "            nb_nan+=1\n",
    "    if (nb_nan<12):\n",
    "        array_moins_douze.append(row)\n",
    "array_moins_douze_avec_pays = np.array(array_moins_douze)\n",
    "array_moins_douze = np.delete(np.array(array_moins_douze),0,axis=1)"
   ]
  },
  {
   "cell_type": "code",
   "execution_count": 13,
   "id": "bf2228bf",
   "metadata": {},
   "outputs": [],
   "source": [
    "# np.array(array_moins_douze)"
   ]
  },
  {
   "cell_type": "code",
   "execution_count": 14,
   "id": "1f078dca",
   "metadata": {},
   "outputs": [],
   "source": [
    "# df_dataA = pd.DataFrame(array_moins_douze_avec_pays)\n",
    "# df_dataA.columns = nom_col\n",
    "# df_dataA.to_csv(\"./data/dataA.csv\", index=False)"
   ]
  },
  {
   "cell_type": "code",
   "execution_count": 15,
   "id": "1c18d6f4",
   "metadata": {},
   "outputs": [],
   "source": [
    "# indice qui indique ou sont les nan pour la regression plus bas\n",
    "ou_sont_les_nan = []\n",
    "for row in array_moins_douze:\n",
    "    ligne_index_nan = []\n",
    "    for i in range(0,40):\n",
    "        if (pd.isna(row[i])):\n",
    "            ligne_index_nan.append(i)\n",
    "    ou_sont_les_nan.append(ligne_index_nan)"
   ]
  },
  {
   "cell_type": "code",
   "execution_count": 16,
   "id": "18650255",
   "metadata": {},
   "outputs": [],
   "source": [
    "# ou_sont_les_nan"
   ]
  },
  {
   "cell_type": "code",
   "execution_count": 17,
   "id": "f2a0e17a",
   "metadata": {},
   "outputs": [],
   "source": [
    "array_avec_medianne = []\n",
    "for i in range(0,40):\n",
    "    col_new = []\n",
    "    col = array_moins_douze[:,i]\n",
    "    medianne = mediannes[i]\n",
    "    for x in col:\n",
    "        if (pd.isna(x)):\n",
    "            col_new.append(medianne)\n",
    "            \n",
    "        else:\n",
    "            col_new.append(x)\n",
    "    array_avec_medianne.append(col_new)\n",
    "array_avec_medianne = np.transpose(array_avec_medianne)"
   ]
  },
  {
   "cell_type": "code",
   "execution_count": 18,
   "id": "3f1b00db",
   "metadata": {},
   "outputs": [],
   "source": [
    "# array_avec_medianne[0]"
   ]
  },
  {
   "cell_type": "code",
   "execution_count": 19,
   "id": "4caa7344",
   "metadata": {
    "scrolled": true
   },
   "outputs": [],
   "source": [
    "# mediannes"
   ]
  },
  {
   "cell_type": "code",
   "execution_count": 20,
   "id": "a2bfaf0d",
   "metadata": {
    "scrolled": true
   },
   "outputs": [],
   "source": [
    "prediction_reg1 = []\n",
    "for i in range(0,40):\n",
    "    y = np.delete(array_avec_medianne[:,i],ou_sont_les_nan[i])\n",
    "#     print(y)\n",
    "    x = np.delete(array_avec_medianne,i,1)\n",
    "    x_moins = np.delete(x,ou_sont_les_nan[i],0)\n",
    "#     print(\"x\", x)\n",
    "    reg = LinearRegression().fit(x_moins,y)\n",
    "    predictions = reg.predict(x)\n",
    "#     print(\"len\",len(predictions))\n",
    "    prediction_reg1.append(predictions)\n",
    "\n",
    "prediction_reg1 = np.transpose(np.array(prediction_reg1))"
   ]
  },
  {
   "cell_type": "code",
   "execution_count": 21,
   "id": "ac258ba8",
   "metadata": {},
   "outputs": [],
   "source": [
    "# prediction_reg1"
   ]
  },
  {
   "cell_type": "code",
   "execution_count": 22,
   "id": "f18ab7ec",
   "metadata": {},
   "outputs": [],
   "source": [
    "# ou_sont_les_nan[0]"
   ]
  },
  {
   "cell_type": "code",
   "execution_count": 23,
   "id": "a2d6051f",
   "metadata": {},
   "outputs": [],
   "source": [
    "array_reg1 = []\n",
    "for i in range(0,len(array_avec_medianne[:,0])):\n",
    "    ligne = array_avec_medianne[i]\n",
    "#     print(\"1\",ligne)\n",
    "    nan = ou_sont_les_nan[i]\n",
    "    for j in nan:\n",
    "        ligne[j] = prediction_reg1[i][j]\n",
    "#         print(ligne[j])\n",
    "#     print(\"2\",ligne)\n",
    "    array_reg1.append(ligne)\n",
    "\n",
    "array_reg1 = np.array(array_reg1)"
   ]
  },
  {
   "cell_type": "code",
   "execution_count": 24,
   "id": "a8f38693",
   "metadata": {},
   "outputs": [],
   "source": [
    "# array_reg1[:,0]"
   ]
  },
  {
   "cell_type": "code",
   "execution_count": 25,
   "id": "5fa81c57",
   "metadata": {},
   "outputs": [],
   "source": [
    "# array_reg1[0]"
   ]
  },
  {
   "cell_type": "code",
   "execution_count": 26,
   "id": "dbe0446f",
   "metadata": {},
   "outputs": [],
   "source": [
    "# array_avec_medianne[0]"
   ]
  },
  {
   "cell_type": "code",
   "execution_count": 27,
   "id": "16279cdf",
   "metadata": {
    "scrolled": true
   },
   "outputs": [],
   "source": [
    "prediction_reg2 = []\n",
    "for i in range(0,40):\n",
    "    y = np.delete(array_reg1[:,i],ou_sont_les_nan[i])\n",
    "    x = np.delete(array_reg1,i,1)\n",
    "    x_moins = np.delete(x,ou_sont_les_nan[i],0)\n",
    "    reg = LinearRegression().fit(x_moins,y)\n",
    "    predictions = reg.predict(x)\n",
    "#     print(\"len\",len(predictions))\n",
    "    prediction_reg2.append(predictions)\n",
    "\n",
    "prediction_reg2 = np.transpose(np.array(prediction_reg2))"
   ]
  },
  {
   "cell_type": "code",
   "execution_count": 27,
   "id": "5f78f770",
   "metadata": {},
   "outputs": [],
   "source": [
    "array_reg2 = []\n",
    "for i in range(0,len(array_reg1[:,0])):\n",
    "    ligne = array_reg1[i]\n",
    "#     print(\"1\",ligne)\n",
    "    nan = ou_sont_les_nan[i]\n",
    "    for j in nan:\n",
    "        ligne[j] = prediction_reg2[i][j]\n",
    "#         print(ligne[j])\n",
    "#     print(\"2\",ligne)\n",
    "    array_reg2.append(ligne)\n",
    "\n",
    "array_reg2 = np.array(array_reg2)"
   ]
  },
  {
   "cell_type": "code",
   "execution_count": 28,
   "id": "2e2914f4",
   "metadata": {},
   "outputs": [],
   "source": [
    "# array_reg2"
   ]
  },
  {
   "cell_type": "code",
   "execution_count": 29,
   "id": "d5d725be",
   "metadata": {},
   "outputs": [],
   "source": [
    "# print(array_reg2[:,0])"
   ]
  },
  {
   "cell_type": "code",
   "execution_count": 30,
   "id": "01676f1e",
   "metadata": {},
   "outputs": [],
   "source": [
    "# print(array_reg1[:,0])"
   ]
  },
  {
   "cell_type": "code",
   "execution_count": 31,
   "id": "628343a2",
   "metadata": {},
   "outputs": [],
   "source": [
    "# print(array_avec_medianne[:,26])"
   ]
  },
  {
   "cell_type": "code",
   "execution_count": 32,
   "id": "14964a85",
   "metadata": {},
   "outputs": [],
   "source": [
    "# mediannes[26]"
   ]
  },
  {
   "cell_type": "code",
   "execution_count": 33,
   "id": "4f7bcd4d",
   "metadata": {},
   "outputs": [],
   "source": [
    "# Question 1 e)\n",
    "array_bin = []\n",
    "for i in range(0, 40):\n",
    "    col = array_reg2[:,i]\n",
    "    medianne = mediannes[i]\n",
    "    col_new = []\n",
    "    for x in col:\n",
    "        if x <=medianne:\n",
    "            col_new.append(0)\n",
    "        else:\n",
    "            col_new.append(1)\n",
    "    array_bin.append(col_new)\n",
    "\n",
    "array_bin = np.transpose(np.array(array_bin))"
   ]
  },
  {
   "cell_type": "code",
   "execution_count": 34,
   "id": "cb52ac9e",
   "metadata": {},
   "outputs": [],
   "source": [
    "# dataB\n",
    "array_dataB = np.append(array_moins_douze_avec_pays[:, 0, np.newaxis], array_reg2, axis=1)\n",
    "df_dataB = pd.DataFrame(array_dataB)"
   ]
  },
  {
   "cell_type": "code",
   "execution_count": 35,
   "id": "38c9e88b",
   "metadata": {},
   "outputs": [],
   "source": [
    "# print(array_dataB)"
   ]
  },
  {
   "cell_type": "code",
   "execution_count": 36,
   "id": "67c57219",
   "metadata": {},
   "outputs": [],
   "source": [
    "df_dataB.columns = nom_col"
   ]
  },
  {
   "cell_type": "code",
   "execution_count": 37,
   "id": "15ef9ce0",
   "metadata": {},
   "outputs": [],
   "source": [
    "# df_dataB"
   ]
  },
  {
   "cell_type": "code",
   "execution_count": 38,
   "id": "1f8134a5",
   "metadata": {},
   "outputs": [],
   "source": [
    "# df_dataB.to_csv(\"./data/dataB.csv\", index=False)"
   ]
  },
  {
   "cell_type": "code",
   "execution_count": 39,
   "id": "0e16f813",
   "metadata": {},
   "outputs": [],
   "source": [
    "# dataC\n",
    "array_dataC = np.append(array_moins_douze_avec_pays[:, 0, np.newaxis], array_bin, axis=1)\n",
    "df_dataC = pd.DataFrame(array_dataC)"
   ]
  },
  {
   "cell_type": "code",
   "execution_count": 40,
   "id": "d9cdd142",
   "metadata": {},
   "outputs": [],
   "source": [
    "# array_dataC"
   ]
  },
  {
   "cell_type": "code",
   "execution_count": 41,
   "id": "00841598",
   "metadata": {},
   "outputs": [],
   "source": [
    "df_dataC.columns = nom_col"
   ]
  },
  {
   "cell_type": "code",
   "execution_count": 42,
   "id": "cdedf3ae",
   "metadata": {},
   "outputs": [],
   "source": [
    "# df_dataC"
   ]
  },
  {
   "cell_type": "code",
   "execution_count": 43,
   "id": "6eab93c8",
   "metadata": {},
   "outputs": [],
   "source": [
    "# df_dataC.to_csv(\"./data/dataC.csv\", index=False)"
   ]
  },
  {
   "cell_type": "markdown",
   "id": "2b20609f",
   "metadata": {},
   "source": [
    "# Question 2"
   ]
  },
  {
   "cell_type": "code",
   "execution_count": 44,
   "id": "3401148a",
   "metadata": {},
   "outputs": [],
   "source": [
    "# Question 2\n",
    "df_corr = pd.DataFrame(array_reg2)"
   ]
  },
  {
   "cell_type": "code",
   "execution_count": 45,
   "id": "3b8348d9",
   "metadata": {
    "scrolled": false
   },
   "outputs": [],
   "source": [
    "# df_corr"
   ]
  },
  {
   "cell_type": "code",
   "execution_count": 46,
   "id": "eb200fe5",
   "metadata": {},
   "outputs": [],
   "source": [
    "correlations = df_corr.astype(\"float\").corr()"
   ]
  },
  {
   "cell_type": "code",
   "execution_count": 47,
   "id": "cc81b2c6",
   "metadata": {},
   "outputs": [],
   "source": [
    "# Inspiré de https://stackoverflow.com/questions/29432629/plot-correlation-matrix-using-pandas\n",
    "# fig = plt.figure(figsize=(19,15))\n",
    "# plt.matshow(correlations, fignum=fig.number)\n",
    "# plt.xticks(range(df_corr.select_dtypes(['number']).shape[1]), df_corr.select_dtypes(['number']).columns, fontsize=14, rotation=45)\n",
    "# plt.yticks(range(df_corr.select_dtypes(['number']).shape[1]), df_corr.select_dtypes(['number']).columns, fontsize=14)\n",
    "# cb = plt.colorbar()\n",
    "# cb.ax.tick_params(labelsize=14)\n",
    "# plt.title(\"Matrice de corrélation\", fontsize=16);\n",
    "                 \n",
    "# fig.savefig(\"correlations.pdf\", bbox_inches='tight')          "
   ]
  },
  {
   "cell_type": "code",
   "execution_count": 48,
   "id": "047375bf",
   "metadata": {},
   "outputs": [],
   "source": [
    "# fig = plt.figure(figsize=(8,4))\n",
    "# plt.scatter(np.arange(40), nb_manquantes)\n",
    "# plt.title(\"Nb de données manquantes en fonction de la colonne\")\n",
    "# plt.ylabel(\"Nb de données manquantes\")\n",
    "# plt.xlabel(\"# de la colonne\")\n",
    "# plt.show()\n",
    "\n",
    "# fig.savefig(\"données_manquantes.pdf\", bbox_inches='tight')"
   ]
  },
  {
   "cell_type": "code",
   "execution_count": 49,
   "id": "f6ce1ce3",
   "metadata": {},
   "outputs": [],
   "source": [
    "array_correlation = np.array(correlations)\n",
    "# corr_json = array_correlation.tolist()\n",
    "# with open('./data/corr.json', 'w') as f:\n",
    "#     json.dump(corr_json, f)"
   ]
  },
  {
   "cell_type": "code",
   "execution_count": 50,
   "id": "70958920",
   "metadata": {},
   "outputs": [],
   "source": [
    "# 2.b\n",
    "correlations_max = []\n",
    "for i in range(40):\n",
    "    col = np.abs(array_correlation[:,i])\n",
    "    col[i] = 0\n",
    "    corr_max = np.max(col)\n",
    "    argmax = np.argmax(col)\n",
    "    correlations_max.append(argmax)"
   ]
  },
  {
   "cell_type": "code",
   "execution_count": 51,
   "id": "6a1539ff",
   "metadata": {},
   "outputs": [],
   "source": [
    "# max_corr_json = np.array(correlations_max).tolist()\n",
    "# with open('./data/max_corr.json', 'w') as f:\n",
    "#     json.dump(max_corr_json, f)"
   ]
  },
  {
   "cell_type": "code",
   "execution_count": 52,
   "id": "98d4e6dd",
   "metadata": {},
   "outputs": [],
   "source": [
    "# 2.c\n",
    "correlation_moyennes = []\n",
    "for i in range(40):\n",
    "    col = np.abs(array_correlation[:,i])\n",
    "    correlation_moyennes.append([i,np.mean(col)])"
   ]
  },
  {
   "cell_type": "code",
   "execution_count": 53,
   "id": "006aeb27",
   "metadata": {},
   "outputs": [],
   "source": [
    "# correlation_moyennes"
   ]
  },
  {
   "cell_type": "code",
   "execution_count": 54,
   "id": "a9979ea4",
   "metadata": {},
   "outputs": [],
   "source": [
    "# permet de ne compter que sur la 2e composante, soit la 2e colonne pour faire un action (ex: sort sur la 2e fonction)\n",
    "def deuxieme_composante(array):\n",
    "    return(array[1])"
   ]
  },
  {
   "cell_type": "code",
   "execution_count": 55,
   "id": "f5d3a7fb",
   "metadata": {},
   "outputs": [],
   "source": [
    "correlation_moyennes.sort(reverse=True,key=deuxieme_composante)"
   ]
  },
  {
   "cell_type": "code",
   "execution_count": 56,
   "id": "0e9742bc",
   "metadata": {},
   "outputs": [],
   "source": [
    "# correlation_moyennes"
   ]
  },
  {
   "cell_type": "code",
   "execution_count": 57,
   "id": "c7f9d7c3",
   "metadata": {},
   "outputs": [],
   "source": [
    "# ordre_json = np.array(correlation_moyennes)[:,0].tolist()\n",
    "# with open('./data/ordre.json', 'w') as f:\n",
    "#     json.dump(ordre_json, f)"
   ]
  },
  {
   "cell_type": "markdown",
   "id": "188785c9",
   "metadata": {},
   "source": [
    "# Question 3"
   ]
  },
  {
   "cell_type": "code",
   "execution_count": 58,
   "id": "61180539",
   "metadata": {},
   "outputs": [],
   "source": [
    "# 3.a"
   ]
  },
  {
   "cell_type": "code",
   "execution_count": 59,
   "id": "e9bf55cf",
   "metadata": {},
   "outputs": [],
   "source": [
    "df_array_reg2 = pd.DataFrame(np.copy(array_reg2))"
   ]
  },
  {
   "cell_type": "code",
   "execution_count": 60,
   "id": "8288996e",
   "metadata": {},
   "outputs": [],
   "source": [
    "for col in df_array_reg2.columns:\n",
    "    col_zscore = col\n",
    "    df_array_reg2[col_zscore] = (df_array_reg2[col] - df_array_reg2[col].mean())/df_array_reg2[col].std(ddof=0)"
   ]
  },
  {
   "cell_type": "code",
   "execution_count": 61,
   "id": "3d015f7b",
   "metadata": {},
   "outputs": [],
   "source": [
    "# df_array_reg2"
   ]
  },
  {
   "cell_type": "code",
   "execution_count": 62,
   "id": "4dfa38b9",
   "metadata": {},
   "outputs": [],
   "source": [
    "array_reg2_norma = df_array_reg2.to_numpy()"
   ]
  },
  {
   "cell_type": "code",
   "execution_count": 63,
   "id": "106979fd",
   "metadata": {},
   "outputs": [],
   "source": [
    "scores_avec_toutes_les_colonnes = []\n",
    "for i in range(40):\n",
    "    Y = array_reg2_norma[:,i]\n",
    "    X = np.delete(array_reg2_norma,i,1)\n",
    "    reg = LinearRegression().fit(X, Y)\n",
    "    scores_avec_toutes_les_colonnes.append([i,reg.score(X,Y)])"
   ]
  },
  {
   "cell_type": "code",
   "execution_count": 64,
   "id": "80158579",
   "metadata": {
    "scrolled": true
   },
   "outputs": [],
   "source": [
    "arrays_scores_vs_all_others = np.array(scores_avec_toutes_les_colonnes)\n",
    "# arrays_scores_vs_all_others"
   ]
  },
  {
   "cell_type": "code",
   "execution_count": 65,
   "id": "84cebccb",
   "metadata": {
    "scrolled": false
   },
   "outputs": [],
   "source": [
    "# x = arrays_scores_vs_all_others[:, 0]\n",
    "# y = arrays_scores_vs_all_others[:, 1]\n",
    "# score_median = np.median(arrays_scores_vs_all_others[:, 1])\n",
    "# fig, ax = plt.subplots(figsize=(10,10))\n",
    "# ax.scatter(x, y)\n",
    "# ax.axhline(score_median, color='r')\n",
    "# plt.title(\"Scores du prédicteur d'une variable en fonctions de toutes les autres variables (Médiane en rouge)\")\n",
    "# plt.ylabel(\"Scores du prédicteur en fonctions des autres colonnes\")\n",
    "# plt.xlabel(\"Colonne à prédire\")\n",
    "# plt.show()\n",
    "\n",
    "# fig.savefig(\"reg_scores_plot.pdf\", bbox_inches='tight')"
   ]
  },
  {
   "cell_type": "code",
   "execution_count": 66,
   "id": "d7ea4622",
   "metadata": {
    "scrolled": true
   },
   "outputs": [],
   "source": [
    "sorted_arrays_scores_vs_all_others = sorted(arrays_scores_vs_all_others,reverse=True,key=deuxieme_composante)\n",
    "# sorted_arrays_scores_vs_all_others"
   ]
  },
  {
   "cell_type": "code",
   "execution_count": 67,
   "id": "ace28e9c",
   "metadata": {},
   "outputs": [],
   "source": [
    "# plus difficile à prédire\n",
    "# sorted_arrays_scores_vs_all_others[-1]"
   ]
  },
  {
   "cell_type": "code",
   "execution_count": 68,
   "id": "c75371d2",
   "metadata": {},
   "outputs": [],
   "source": [
    "# plus facile à prédire\n",
    "# sorted_arrays_scores_vs_all_others[0]"
   ]
  },
  {
   "cell_type": "code",
   "execution_count": 69,
   "id": "5d92f906",
   "metadata": {},
   "outputs": [],
   "source": [
    "# 2.b\n",
    "test = list(itertools.combinations(range(40), 2))"
   ]
  },
  {
   "cell_type": "code",
   "execution_count": 70,
   "id": "0c75ed75",
   "metadata": {},
   "outputs": [],
   "source": [
    "Y_test = array_reg2_norma[:,0]\n",
    "indices = np.delete(np.array(range(40)),0)\n",
    "# Paires triangulaires supérieurs\n",
    "paires_test = list(itertools.combinations(indices, 2))"
   ]
  },
  {
   "cell_type": "code",
   "execution_count": 71,
   "id": "32fe4fed",
   "metadata": {},
   "outputs": [],
   "source": [
    "scores_test = []\n",
    "for x,y in paires_test:\n",
    "#     print(x,y)\n",
    "    X_paires = np.transpose(np.array([array_reg2_norma[:,x], array_reg2_norma[:,y]]))\n",
    "#     print(X_paires.shape)\n",
    "    reg_test = LinearRegression().fit(X_paires,Y_test)\n",
    "    scores_test.append([[x,y],reg_test.score(X_paires,Y_test)])"
   ]
  },
  {
   "cell_type": "code",
   "execution_count": 72,
   "id": "4304f3a9",
   "metadata": {},
   "outputs": [],
   "source": [
    "# scores_test"
   ]
  },
  {
   "cell_type": "code",
   "execution_count": 73,
   "id": "72b0282e",
   "metadata": {},
   "outputs": [],
   "source": [
    "scores_test.sort(reverse=True,key=deuxieme_composante)"
   ]
  },
  {
   "cell_type": "code",
   "execution_count": 74,
   "id": "7cc7e7d4",
   "metadata": {},
   "outputs": [],
   "source": [
    "# scores_test[0]"
   ]
  },
  {
   "cell_type": "code",
   "execution_count": 75,
   "id": "27cf6cce",
   "metadata": {
    "scrolled": true
   },
   "outputs": [],
   "source": [
    "meilleures_paires_regression = []\n",
    "tout_paires =  []\n",
    "for i in range(40):\n",
    "    Y = array_reg2_norma[:,i]\n",
    "    indices = np.delete(np.array(range(40)), i)\n",
    "    paires =  list(itertools.combinations(indices, 2))\n",
    "    scores_test = []\n",
    "    for x,y in paires:\n",
    "        X_paires = np.transpose(np.array([array_reg2_norma[:,x], array_reg2_norma[:,y]]))\n",
    "        reg_test = LinearRegression().fit(X_paires,Y)\n",
    "        scores_test.append([[x,y],reg_test.score(X_paires,Y)])\n",
    "    scores_test.sort(reverse=True,key=deuxieme_composante)\n",
    "    meilleures_paires_regression.append(scores_test[0])"
   ]
  },
  {
   "cell_type": "code",
   "execution_count": 76,
   "id": "b30efd5b",
   "metadata": {
    "scrolled": true
   },
   "outputs": [],
   "source": [
    "# meilleures_paires_regression[1][0]"
   ]
  },
  {
   "cell_type": "code",
   "execution_count": 77,
   "id": "1ee71168",
   "metadata": {},
   "outputs": [],
   "source": [
    "# lineaire_paires_json = [row[0] for row in meilleures_paires_regression]\n",
    "# lineaire_paires_json = np.array(lineaire_paires_json).tolist()\n",
    "# with open('./data/lineaire_paires_colonnes1.json', 'w') as f:\n",
    "#     json.dump(lineaire_paires_json, f)"
   ]
  },
  {
   "cell_type": "code",
   "execution_count": 78,
   "id": "cbc42a9a",
   "metadata": {},
   "outputs": [],
   "source": [
    "nb_occurences_paires = []\n",
    "for i in range(40):\n",
    "    nb_occurences_paires.append(meilleures_paires_regression[i][0][0])\n",
    "    nb_occurences_paires.append(meilleures_paires_regression[i][0][1])"
   ]
  },
  {
   "cell_type": "code",
   "execution_count": 79,
   "id": "cb4bc988",
   "metadata": {},
   "outputs": [],
   "source": [
    "nb_occurences = np.unique(np.array(nb_occurences_paires), return_counts=True)"
   ]
  },
  {
   "cell_type": "code",
   "execution_count": 80,
   "id": "6ac35fef",
   "metadata": {},
   "outputs": [],
   "source": [
    "nb_occurences_list = []\n",
    "\n",
    "for i, x in enumerate(nb_occurences[0]):\n",
    "    nb_occurences_list.append([x, nb_occurences[1][i]])"
   ]
  },
  {
   "cell_type": "code",
   "execution_count": 81,
   "id": "ceb0f7dd",
   "metadata": {},
   "outputs": [],
   "source": [
    "nb_occurences_per_column = sorted(nb_occurences_list, reverse=True, key=deuxieme_composante)"
   ]
  },
  {
   "cell_type": "code",
   "execution_count": 82,
   "id": "f5caa834",
   "metadata": {},
   "outputs": [],
   "source": [
    "# fig = plt.figure(figsize=(8,5))\n",
    "# plt.scatter(np.arange(len(nb_occurences_per_column)), nb_occurences[1])\n",
    "# plt.ylabel(\"Nb d'occurences d'une colonne parmi les paires\")\n",
    "# plt.xlabel(\"# de la colonne\")\n",
    "# plt.title(\"Nb d'occurences parmi les paires en fonction de la colonne\")\n",
    "# plt.show()\n",
    "\n",
    "# fig.savefig(\"lineaire_nb_occurences_paires.pdf\", bbox_inches='tight')"
   ]
  },
  {
   "cell_type": "code",
   "execution_count": 83,
   "id": "0c3e5f7f",
   "metadata": {},
   "outputs": [],
   "source": [
    "# 3.c\n",
    "indices = np.array(range(40))\n",
    "                   \n",
    "paires =  list(itertools.combinations(indices, 2))"
   ]
  },
  {
   "cell_type": "code",
   "execution_count": 84,
   "id": "205bd4a5",
   "metadata": {},
   "outputs": [],
   "source": [
    "moyenne_scores = []\n",
    "for x,y in paires:\n",
    "    tout_les_scores= []\n",
    "    y_possible = np.delete(indices,[x,y])\n",
    "    for label in y_possible:\n",
    "        Y = array_reg2_norma[:,label]\n",
    "        X_paires = np.transpose(np.array([array_reg2_norma[:,x], array_reg2_norma[:,y]]))\n",
    "        reg_test = LinearRegression().fit(X_paires,Y)\n",
    "        score = reg_test.score(X_paires, Y)\n",
    "        tout_les_scores.append(score), \n",
    "        \n",
    "    moyenne_scores.append([[x,y],np.mean(tout_les_scores)])"
   ]
  },
  {
   "cell_type": "code",
   "execution_count": 85,
   "id": "f8854fb5",
   "metadata": {},
   "outputs": [],
   "source": [
    "# moyenne_scores"
   ]
  },
  {
   "cell_type": "code",
   "execution_count": 86,
   "id": "e5555cc6",
   "metadata": {},
   "outputs": [],
   "source": [
    "moyenne_scores.sort(reverse=True,key=deuxieme_composante)"
   ]
  },
  {
   "cell_type": "code",
   "execution_count": 87,
   "id": "f9be3e79",
   "metadata": {},
   "outputs": [],
   "source": [
    "# moyenne_scores"
   ]
  },
  {
   "cell_type": "code",
   "execution_count": 88,
   "id": "14d0bca5",
   "metadata": {},
   "outputs": [],
   "source": [
    "# moyenne_scores[0]"
   ]
  },
  {
   "cell_type": "code",
   "execution_count": 89,
   "id": "62485cf4",
   "metadata": {},
   "outputs": [],
   "source": [
    "# nom_col[25]"
   ]
  },
  {
   "cell_type": "markdown",
   "id": "1014e429",
   "metadata": {},
   "source": [
    "# Question 3 Bayes"
   ]
  },
  {
   "cell_type": "code",
   "execution_count": 90,
   "id": "6e104484",
   "metadata": {},
   "outputs": [],
   "source": [
    "# Question 3 bayes\n",
    "# 3.a\n",
    "scores_avec_toutes_les_colonnes_bayes = []\n",
    "for i in range(40):\n",
    "    Y = array_bin[:,i]\n",
    "    X = np.delete(array_bin,i,1)\n",
    "    GNB = GaussianNB().fit(X, Y)\n",
    "    scores_avec_toutes_les_colonnes_bayes.append([i,GNB.score(X,Y)])"
   ]
  },
  {
   "cell_type": "code",
   "execution_count": 91,
   "id": "455e6242",
   "metadata": {},
   "outputs": [],
   "source": [
    "arrays_scores_vs_all_others_bayes = np.array(scores_avec_toutes_les_colonnes_bayes)\n",
    "# arrays_scores_vs_all_others_bayes"
   ]
  },
  {
   "cell_type": "code",
   "execution_count": 92,
   "id": "8c90cfea",
   "metadata": {},
   "outputs": [],
   "source": [
    "# x = arrays_scores_vs_all_others_bayes[:, 0]\n",
    "# y = arrays_scores_vs_all_others_bayes[:, 1]\n",
    "# score_median = np.mean(arrays_scores_vs_all_others_bayes[:, 1])\n",
    "# fig, ax = plt.subplots(figsize=(10,10))\n",
    "# ax.scatter(x, y)\n",
    "# ax.axhline(score_median, color='r')\n",
    "# plt.title(\"Scores du prédicteur bayésien d'une variable en fonctions de toutes les autres variables (Médiane en rouge)\")\n",
    "# plt.ylabel(\"Scores du prédicteur en fonctions des autres colonnes\")\n",
    "# plt.xlabel(\"Colonne à prédire\")\n",
    "# plt.show()\n",
    "\n",
    "# fig.savefig(\"bayes_scores_plot.pdf\", bbox_inches='tight')"
   ]
  },
  {
   "cell_type": "code",
   "execution_count": 93,
   "id": "a7dd9964",
   "metadata": {},
   "outputs": [],
   "source": [
    "# 3.a (ensemble)\n",
    "\n",
    "# labels = [\"Reg\", \"Bayes\"]\n",
    "# x_bayes = arrays_scores_vs_all_others_bayes[:, 0]\n",
    "# y_bayes = arrays_scores_vs_all_others_bayes[:, 1]\n",
    "# x_reg = arrays_scores_vs_all_others[:, 0]\n",
    "# y_reg = arrays_scores_vs_all_others[:, 1]\n",
    "# fig, ax = plt.subplots(figsize=(10,10))\n",
    "# ax.scatter(x_reg, y_reg, label=labels[0])\n",
    "# ax.scatter(x_bayes, y_bayes, label=labels[1])\n",
    "# plt.title(\"Scores du prédicteur d'une variable en fonctions de toutes les autres variables (Reg et Bayes)\")\n",
    "# plt.ylabel(\"Scores du prédicteur en fonctions des autres colonnes\")\n",
    "# plt.xlabel(\"Colonne à prédire\")\n",
    "# plt.legend(labels)\n",
    "# plt.show()\n",
    "\n",
    "# fig.savefig(\"reg_and_bayes_scores_plot.pdf\", bbox_inches='tight')"
   ]
  },
  {
   "cell_type": "code",
   "execution_count": 94,
   "id": "985f0757",
   "metadata": {
    "scrolled": true
   },
   "outputs": [],
   "source": [
    "# 3.b\n",
    "scores_test_bayes = []\n",
    "meilleures_paires_bayes = []\n",
    "tout_paires = []\n",
    "for i in range(40):\n",
    "#     print(i)\n",
    "    Y = array_bin[:,i]\n",
    "    indices = np.delete(np.array(range(40)), i)\n",
    "    paires =  list(itertools.combinations(indices, 2))\n",
    "    scores_test = []\n",
    "    for x,y in paires:\n",
    "        X_paires = np.transpose(np.array([array_bin[:,x], array_bin[:,y]]))\n",
    "        bayes_test = GaussianNB().fit(X_paires,Y)\n",
    "        accuracy = accuracy_score(Y,bayes_test.predict(X_paires))\n",
    "        scores_test.append([[x,y],accuracy])\n",
    "        scores_test_bayes.append([[x,y],accuracy])\n",
    "    scores_test = sorted(scores_test, reverse=True,key=deuxieme_composante)\n",
    "    meilleures_paires_bayes.append(scores_test[0])"
   ]
  },
  {
   "cell_type": "code",
   "execution_count": 95,
   "id": "3bcf8ecf",
   "metadata": {},
   "outputs": [],
   "source": [
    "# scores_test_bayes"
   ]
  },
  {
   "cell_type": "code",
   "execution_count": 96,
   "id": "b4e2fdd8",
   "metadata": {},
   "outputs": [],
   "source": [
    "# meilleures_paires_bayes"
   ]
  },
  {
   "cell_type": "code",
   "execution_count": 97,
   "id": "3faad5c3",
   "metadata": {},
   "outputs": [],
   "source": [
    "moyenne_scores_bayes = []\n",
    "for x,y in paires:\n",
    "    #print(x,y)\n",
    "    tout_les_scores= []\n",
    "    y_possible = np.delete(indices,[x,y])\n",
    "#     print(y_possible)\n",
    "    for label in y_possible:\n",
    "        Y = array_bin[:,label]\n",
    "        X_paires = np.transpose(np.array([array_bin[:,x], array_bin[:,y]]))\n",
    "        bayes_test = GaussianNB().fit(X_paires,Y)\n",
    "        score = accuracy_score(Y,bayes_test.predict(X_paires))\n",
    "        tout_les_scores.append(score)\n",
    "    moyenne_scores_bayes.append([[x,y],np.mean(tout_les_scores)])"
   ]
  },
  {
   "cell_type": "code",
   "execution_count": 98,
   "id": "7e16d76e",
   "metadata": {},
   "outputs": [],
   "source": [
    "# moyenne_scores_bayes"
   ]
  },
  {
   "cell_type": "code",
   "execution_count": 99,
   "id": "a23c5ae0",
   "metadata": {},
   "outputs": [],
   "source": [
    "moyenne_scores_bayes.sort(reverse=True,key=deuxieme_composante)"
   ]
  },
  {
   "cell_type": "code",
   "execution_count": 100,
   "id": "0c0d7d1c",
   "metadata": {},
   "outputs": [],
   "source": [
    "# moyenne_scores_bayes"
   ]
  },
  {
   "cell_type": "code",
   "execution_count": 101,
   "id": "15188b5c",
   "metadata": {},
   "outputs": [],
   "source": [
    "# moyenne_scores_bayes[0]"
   ]
  },
  {
   "cell_type": "code",
   "execution_count": 102,
   "id": "5c8d13e4",
   "metadata": {},
   "outputs": [],
   "source": [
    "# bayesien_paires_json = [row[0] for row in meilleures_paires_regression]\n",
    "# bayesien_paires_json = np.array(bayesien_paires_json).tolist()\n",
    "# with open('./data/bayesien_paires_colonnes.json', 'w') as f:\n",
    "#     json.dump(bayesien_paires_json, f)"
   ]
  },
  {
   "cell_type": "code",
   "execution_count": 103,
   "id": "4b5df274",
   "metadata": {},
   "outputs": [],
   "source": [
    "# smth_bayes, y_reg = zip(*moyenne_scores)\n",
    "# smth_bayes, y_bayes = zip(*moyenne_scores_bayes)\n",
    "# labels = [\"Reg\", \"Bayes\"]\n",
    "# x_q3 = np.arange(100)\n",
    "# fig, ax = plt.subplots(figsize=(10,10))\n",
    "# ax.scatter(x_q3, y_reg[:100], label=labels[0])\n",
    "# ax.scatter(x_q3, y_bayes[:100], label=labels[1])\n",
    "# plt.title(\"100 meilleurs scores moyens des prédicteur (Reg et Bayes)\")\n",
    "# plt.ylabel(\"Scores du prédicteur en fonctions des autres colonnes\")\n",
    "# plt.xlabel(\"Colonne à prédire\")\n",
    "# plt.legend(labels)\n",
    "# plt.show()\n",
    "\n",
    "# fig.savefig(\"reg_and_bayes_scores_moyens_plot.pdf\", bbox_inches='tight')"
   ]
  },
  {
   "cell_type": "markdown",
   "id": "50641889",
   "metadata": {},
   "source": [
    "# Question 4"
   ]
  },
  {
   "cell_type": "code",
   "execution_count": 104,
   "id": "a8d2a7b2",
   "metadata": {},
   "outputs": [],
   "source": [
    "# 4.a\n",
    "pca = PCA(n_components=2)\n",
    "pca.fit(array_reg2)\n",
    "deux_dim = pca.fit_transform(array_reg2)"
   ]
  },
  {
   "cell_type": "code",
   "execution_count": 105,
   "id": "1e5fc59b",
   "metadata": {},
   "outputs": [],
   "source": [
    "# deux_dim"
   ]
  },
  {
   "cell_type": "code",
   "execution_count": 106,
   "id": "ac3893a0",
   "metadata": {
    "scrolled": true
   },
   "outputs": [],
   "source": [
    "# fig, ax = plt.subplots(figsize=(25,25))\n",
    "# ax.scatter(deux_dim[:,0], deux_dim[:,1])\n",
    "# n = array_moins_douze_avec_pays[:,0]\n",
    "\n",
    "# for i, txt in enumerate(n):\n",
    "#     ax.annotate(txt, (deux_dim[:,0][i], deux_dim[:,1][i]))\n",
    "\n",
    "# fig.savefig(\"pca_25x25.pdf\", bbox_inches='tight')"
   ]
  },
  {
   "cell_type": "code",
   "execution_count": 107,
   "id": "7316c92a",
   "metadata": {},
   "outputs": [],
   "source": [
    "pca_norma = PCA(n_components=2)\n",
    "pca_norma.fit(array_reg2_norma)\n",
    "deux_dim_norma = pca_norma.fit_transform(array_reg2_norma)"
   ]
  },
  {
   "cell_type": "code",
   "execution_count": 109,
   "id": "7448a2ed",
   "metadata": {},
   "outputs": [],
   "source": [
    "# fig, ax = plt.subplots(figsize=(25,25))\n",
    "# ax.scatter(deux_dim_norma[:,0], deux_dim_norma[:,1])\n",
    "# n = array_moins_douze_avec_pays[:,0]\n",
    "\n",
    "# for i, txt in enumerate(n):\n",
    "#     ax.annotate(txt, (deux_dim_norma[:,0][i], deux_dim_norma[:,1][i]))\n",
    "\n",
    "# fig.savefig(\"pca_norma_25x25.pdf\", bbox_inches='tight')"
   ]
  },
  {
   "cell_type": "code",
   "execution_count": 110,
   "id": "a19bc6df",
   "metadata": {},
   "outputs": [],
   "source": [
    "iso = Isomap(n_components=2, n_neighbors=5)\n",
    "x_transformed = iso.fit_transform(array_reg2_norma)"
   ]
  },
  {
   "cell_type": "code",
   "execution_count": 111,
   "id": "1656dd6d",
   "metadata": {
    "scrolled": true
   },
   "outputs": [],
   "source": [
    "# fig, ax = plt.subplots(figsize=(25,25))\n",
    "# ax.scatter(x_transformed[:,0], x_transformed[:,1])\n",
    "# n = array_moins_douze_avec_pays[:,0]\n",
    "\n",
    "# for i, txt in enumerate(n):\n",
    "#     ax.annotate(txt, (x_transformed[:,0][i], x_transformed[:,1][i]))\n",
    "\n",
    "# fig.savefig(\"isomap_norma_25x25.pdf\", bbox_inches='tight')"
   ]
  },
  {
   "cell_type": "code",
   "execution_count": 112,
   "id": "ef60f2f0",
   "metadata": {},
   "outputs": [],
   "source": [
    "# ANALYSE PCA ===================================\n",
    "\n",
    "# 4.b\n",
    "pca_5 = PCA(n_components=5)\n",
    "pca_5.fit(array_reg2)\n",
    "x_cinq_dim = pca_5.fit_transform(array_reg2)"
   ]
  },
  {
   "cell_type": "code",
   "execution_count": 113,
   "id": "5940b21a",
   "metadata": {},
   "outputs": [],
   "source": [
    "# Analyse PCA (non norma)\n",
    "x_pca_deux = deux_dim \n",
    "r_deux = []\n",
    "r_cinq = []\n",
    "for i in range(40):\n",
    "    Y = array_reg2[:,i]\n",
    "    reg_2 = LinearRegression().fit(x_pca_deux,Y)\n",
    "    reg_5 = LinearRegression().fit(x_cinq_dim,Y)\n",
    "    r_deux.append(reg_2.score(x_pca_deux,Y))\n",
    "    r_cinq.append(reg_5.score(x_cinq_dim,Y))"
   ]
  },
  {
   "cell_type": "code",
   "execution_count": 114,
   "id": "c9677468",
   "metadata": {
    "scrolled": true
   },
   "outputs": [],
   "source": [
    "# r_deux"
   ]
  },
  {
   "cell_type": "code",
   "execution_count": 115,
   "id": "2e863ad5",
   "metadata": {
    "scrolled": true
   },
   "outputs": [],
   "source": [
    "# r_cinq"
   ]
  },
  {
   "cell_type": "code",
   "execution_count": 116,
   "id": "a37f764e",
   "metadata": {},
   "outputs": [],
   "source": [
    "r_cinq.sort(reverse=True)\n",
    "r_deux.sort(reverse=True)"
   ]
  },
  {
   "cell_type": "code",
   "execution_count": 117,
   "id": "103166b1",
   "metadata": {
    "scrolled": true
   },
   "outputs": [],
   "source": [
    "# print(r_cinq)"
   ]
  },
  {
   "cell_type": "code",
   "execution_count": 118,
   "id": "4f64cf39",
   "metadata": {},
   "outputs": [],
   "source": [
    "# print(r_deux)"
   ]
  },
  {
   "cell_type": "code",
   "execution_count": 119,
   "id": "99381f63",
   "metadata": {},
   "outputs": [],
   "source": [
    "# print(np.mean(r_deux))\n",
    "# print(np.mean(r_cinq))"
   ]
  },
  {
   "cell_type": "code",
   "execution_count": 120,
   "id": "afc9eede",
   "metadata": {},
   "outputs": [],
   "source": [
    "# Analyse norma\n",
    "pca_5_norma = PCA(n_components=5)\n",
    "pca_5_norma.fit(array_reg2_norma)\n",
    "x_cinq_dim_norma = pca_5_norma.fit_transform(array_reg2_norma)"
   ]
  },
  {
   "cell_type": "code",
   "execution_count": 121,
   "id": "ba6fa58d",
   "metadata": {},
   "outputs": [],
   "source": [
    "# Analyse PCA norma\n",
    "x_pca_deux_norma = deux_dim_norma\n",
    "r_deux_norma = []\n",
    "r_cinq_norma = []\n",
    "for i in range(40):\n",
    "    Y = array_reg2_norma[:,i]\n",
    "    reg_2_norma = LinearRegression().fit(x_pca_deux_norma,Y)\n",
    "    reg_5_norma = LinearRegression().fit(x_cinq_dim_norma,Y)\n",
    "    r_deux_norma.append(reg_2_norma.score(x_pca_deux_norma,Y))\n",
    "    r_cinq_norma.append(reg_5_norma.score(x_cinq_dim_norma,Y))"
   ]
  },
  {
   "cell_type": "code",
   "execution_count": 122,
   "id": "e68786e4",
   "metadata": {},
   "outputs": [],
   "source": [
    "r_deux_norma_indexed = []\n",
    "for i, r in enumerate(r_deux_norma):\n",
    "    r_deux_norma_indexed.append([i, r])"
   ]
  },
  {
   "cell_type": "code",
   "execution_count": 123,
   "id": "750ef1e2",
   "metadata": {},
   "outputs": [],
   "source": [
    "r_deux_norma_sorted_indexed = sorted(r_deux_norma_indexed, reverse=True, key=deuxieme_composante)"
   ]
  },
  {
   "cell_type": "code",
   "execution_count": 124,
   "id": "aaac8c44",
   "metadata": {},
   "outputs": [],
   "source": [
    "# Stocker l'ordre de PCA 2\n",
    "pca_order_analysis = []\n",
    "for i in (r_deux_norma_sorted_indexed):\n",
    "    pca_order_analysis.append(i[0])"
   ]
  },
  {
   "cell_type": "code",
   "execution_count": 125,
   "id": "437d178e",
   "metadata": {},
   "outputs": [],
   "source": [
    "# Créer le vecteur PCA 2 dans cet ordre\n",
    "r_deux_norma_in_order = []\n",
    "for i in pca_order_analysis:\n",
    "    r_deux_norma_in_order.append(r_deux_norma[i])"
   ]
  },
  {
   "cell_type": "code",
   "execution_count": 126,
   "id": "3f3850a2",
   "metadata": {},
   "outputs": [],
   "source": [
    "# Créer le vecteur PCA 5 dans cet ordre\n",
    "r_cinq_norma_in_order = []\n",
    "for i in pca_order_analysis:\n",
    "    r_cinq_norma_in_order.append(r_cinq_norma[i])"
   ]
  },
  {
   "cell_type": "code",
   "execution_count": 127,
   "id": "5b278565",
   "metadata": {},
   "outputs": [],
   "source": [
    "# labels = [\"PCA_2\", \"PCA_5\"]\n",
    "# fig = plt.figure(figsize=(10,10))\n",
    "# plt.scatter(np.arange(40), r_deux_norma_in_order, label=labels[0])\n",
    "# plt.ylabel(\"Score du prédicteur en fonctions des autres colonnes en ordre\")\n",
    "# plt.xlabel(\"Colonne dans l'ordre des meilleurs score pour PCA 2\")\n",
    "# plt.title(\"Score du prédicteur pour une même colonne avec PCA 2 et 5\")\n",
    "# plt.scatter(np.arange(40), r_cinq_norma_in_order, label=labels[1])\n",
    "# plt.legend(labels)\n",
    "# plt.show()\n",
    "\n",
    "# fig.savefig(\"pca_analysis.pdf\", bbox_inches='tight')"
   ]
  },
  {
   "cell_type": "code",
   "execution_count": 128,
   "id": "2c0c0f9f",
   "metadata": {},
   "outputs": [],
   "source": [
    "# print(np.mean(r_deux_norma_in_order))\n",
    "# print(np.mean(r_cinq_norma_in_order))"
   ]
  },
  {
   "cell_type": "markdown",
   "id": "042e8d31",
   "metadata": {},
   "source": [
    "# Question 5"
   ]
  },
  {
   "cell_type": "code",
   "execution_count": 129,
   "id": "5d620690",
   "metadata": {},
   "outputs": [],
   "source": [
    "# 5.a\n",
    "nombre_de_fleches = 100\n",
    "np.fill_diagonal(array_correlation,0)"
   ]
  },
  {
   "cell_type": "code",
   "execution_count": 130,
   "id": "8837ef92",
   "metadata": {},
   "outputs": [],
   "source": [
    "corr_abs = np.abs(array_correlation)"
   ]
  },
  {
   "cell_type": "code",
   "execution_count": 132,
   "id": "59f0d25d",
   "metadata": {},
   "outputs": [],
   "source": [
    "indices = np.array(range(40))\n",
    "paires =  list(itertools.combinations(indices, 2))"
   ]
  },
  {
   "cell_type": "code",
   "execution_count": 133,
   "id": "7fd036f0",
   "metadata": {},
   "outputs": [],
   "source": [
    "# len(paires)"
   ]
  },
  {
   "cell_type": "code",
   "execution_count": 134,
   "id": "f9d6ee3a",
   "metadata": {},
   "outputs": [],
   "source": [
    "corr_en_vecteur = []\n",
    "for x,y in paires:\n",
    "    corr_en_vecteur.append([[x,y],corr_abs[x][y]])"
   ]
  },
  {
   "cell_type": "code",
   "execution_count": 135,
   "id": "1324babb",
   "metadata": {},
   "outputs": [],
   "source": [
    "# corr_en_vecteur"
   ]
  },
  {
   "cell_type": "code",
   "execution_count": 136,
   "id": "afa2d144",
   "metadata": {},
   "outputs": [],
   "source": [
    "corr_en_vecteur.sort(reverse=True,key=deuxieme_composante)"
   ]
  },
  {
   "cell_type": "code",
   "execution_count": 138,
   "id": "93e71756",
   "metadata": {},
   "outputs": [],
   "source": [
    "# corr_en_vecteur[0:nombre_de_fleches]"
   ]
  },
  {
   "cell_type": "code",
   "execution_count": 139,
   "id": "c010c4be",
   "metadata": {},
   "outputs": [],
   "source": [
    "correlation_moyennes.sort()"
   ]
  },
  {
   "cell_type": "code",
   "execution_count": 140,
   "id": "014651de",
   "metadata": {},
   "outputs": [],
   "source": [
    "table_node_1 = []"
   ]
  },
  {
   "cell_type": "code",
   "execution_count": 141,
   "id": "c36a9fe2",
   "metadata": {},
   "outputs": [],
   "source": [
    "dict_corr_moyenne = {x[0]:x[1] for x in correlation_moyennes}"
   ]
  },
  {
   "cell_type": "code",
   "execution_count": 142,
   "id": "51f9fc1d",
   "metadata": {},
   "outputs": [],
   "source": [
    "corr_max_4_parents = []\n",
    "dict_parent = {i:0 for i in range(40)}\n",
    "dict_parent_node = {i:[] for i in range(40)}\n",
    "enfants = []\n",
    "for x in corr_en_vecteur:\n",
    "    pair_current = x[0]\n",
    "    if dict_corr_moyenne[pair_current[0]] >= dict_corr_moyenne[pair_current[1]]:\n",
    "        parent = pair_current[0]\n",
    "        enfant = pair_current[1]\n",
    "    else:\n",
    "        parent = pair_current[1]\n",
    "        enfant = pair_current[0]\n",
    "        \n",
    "    nombre_de_parent_current = dict_parent[enfant]\n",
    "    \n",
    "    if nombre_de_parent_current < 4:\n",
    "        corr_max_4_parents.append(x)\n",
    "        enfants.append(enfant)\n",
    "        dict_parent[enfant] += 1\n",
    "        dict_parent_node[enfant].append(parent)\n",
    "    if len(corr_max_4_parents) == nombre_de_fleches:\n",
    "        break"
   ]
  },
  {
   "cell_type": "code",
   "execution_count": 143,
   "id": "c581f28f",
   "metadata": {},
   "outputs": [],
   "source": [
    "test = []\n",
    "test.append(array_bin[:,26])\n",
    "test.append(array_bin[:,0])\n",
    "test.append(array_bin[:,22])\n",
    "test = np.transpose(test)"
   ]
  },
  {
   "cell_type": "code",
   "execution_count": 144,
   "id": "ec24a5ca",
   "metadata": {},
   "outputs": [],
   "source": [
    "test_prop_cond = np.concatenate((array_bin[:,26,np.newaxis],array_bin[:,0,np.newaxis],array_bin[:,22,np.newaxis]),axis=1)"
   ]
  },
  {
   "cell_type": "code",
   "execution_count": 145,
   "id": "892b0511",
   "metadata": {},
   "outputs": [],
   "source": [
    "cond = np.unique(test_prop_cond,axis=0,return_counts=True)[1]/len(test_prop_cond)"
   ]
  },
  {
   "cell_type": "code",
   "execution_count": 148,
   "id": "3f9689e1",
   "metadata": {},
   "outputs": [],
   "source": [
    "cond_tous_nodes = []\n",
    "tout_states = []\n",
    "for i in range(40):\n",
    "    parents = dict_parent_node[i]\n",
    "    states_possibles = []\n",
    "    states_possibles.append(array_bin[:,i])\n",
    "    for x in parents:\n",
    "        states_possibles.append(array_bin[:,x])\n",
    "    states_possibles = np.transpose(states_possibles)\n",
    "    cond = np.unique(states_possibles,axis=0,return_counts=True)[1]/len(states_possibles)\n",
    "    cond_tous_nodes.append(cond)\n",
    "\n",
    "    states_append = np.unique(states_possibles,axis=0) \n",
    "    states_append = np.concatenate((states_append,cond[:,np.newaxis]),axis=1)\n",
    "    tout_states.append(states_append)\n",
    "dict_cond = {i: cond_tous_nodes[i] for i in range(len(cond_tous_nodes))}\n",
    "dict_state = {i: tout_states[i] for i in range(len(tout_states))}"
   ]
  },
  {
   "cell_type": "code",
   "execution_count": 149,
   "id": "32567801",
   "metadata": {},
   "outputs": [],
   "source": [
    "for i in range(40):\n",
    "    state_sans_proba = np.delete(dict_state[i],-1,1)\n",
    "    #print(state_sans_proba)\n",
    "    state_qui_devraient_etre_la = np.array(list(itertools.product([0, 1], repeat=len(state_sans_proba[0]))))\n",
    "    #print(\"allo\", state_qui_devraient_etre_la)\n",
    "    nombre_ajouter=0\n",
    "    for k in range(len(state_qui_devraient_etre_la)):\n",
    "        x =  state_qui_devraient_etre_la[k]\n",
    "        dedans=False\n",
    "        for j in state_sans_proba:\n",
    "            if np.array_equal(x,j):\n",
    "                dedans = True\n",
    "        if dedans==False:\n",
    "            nombre_ajouter+=1\n",
    "            dict_state[i] = np.insert(dict_state[i],k*(len(state_sans_proba[0])+1), np.append(x,0))\n",
    "            dict_state[i] = dict_state[i].reshape(len(state_sans_proba[:,0])+nombre_ajouter,len(state_sans_proba[0])+1)\n",
    "    dict_state[i] = dict_state[i].reshape(len(state_qui_devraient_etre_la[:,0]),len(state_sans_proba[0])+1)"
   ]
  },
  {
   "cell_type": "code",
   "execution_count": 151,
   "id": "78d5bb56",
   "metadata": {},
   "outputs": [],
   "source": [
    "def bin_composante(array):\n",
    "    bits = np.delete(array,-1,1)\n",
    "    bits = bits.astype(\"int\")\n",
    "    str_bits = []\n",
    "    for bit in bits:\n",
    "        str_bits.append(\"\".join(map(str, bit)))\n",
    "#     print(str_bits[10])\n",
    "#     print(int(str_bits[10], 2))\n",
    "    return(int(str_bits[0], 2))"
   ]
  },
  {
   "cell_type": "code",
   "execution_count": 152,
   "id": "39721315",
   "metadata": {},
   "outputs": [],
   "source": [
    "# init dict distribution\n",
    "dict_distribution = {i:0 for i in range(40)}"
   ]
  },
  {
   "cell_type": "code",
   "execution_count": 154,
   "id": "9d621aa7",
   "metadata": {},
   "outputs": [],
   "source": [
    "# dict_distribution"
   ]
  },
  {
   "cell_type": "code",
   "execution_count": 156,
   "id": "c5db3398",
   "metadata": {},
   "outputs": [],
   "source": [
    "for k in range(100):\n",
    "    for i in range(40):\n",
    "        if dict_distribution[i] == 0:\n",
    "            nb_parents = dict_parent[i]\n",
    "            if nb_parents == 0:\n",
    "                dict_distribution[i] = DiscreteDistribution({float(j):dict_state[i][j][1] for j in range(2)})\n",
    "            else:\n",
    "                parents = dict_parent_node[i]\n",
    "                tout_dedans = True\n",
    "                for x in parents:\n",
    "                    if dict_distribution[x] == 0:\n",
    "                        tout_dedans = False\n",
    "                if tout_dedans == True:\n",
    "                    dict_distribution[i] = ConditionalProbabilityTable(list(dict_state[i]),[dict_distribution[j] for j in dict_parent_node[i]])"
   ]
  },
  {
   "cell_type": "code",
   "execution_count": 158,
   "id": "5cd8a67f",
   "metadata": {},
   "outputs": [],
   "source": [
    "# dict_distribution[0]"
   ]
  },
  {
   "cell_type": "code",
   "execution_count": 159,
   "id": "928f324e",
   "metadata": {},
   "outputs": [],
   "source": [
    "# dict_distribution[5]"
   ]
  },
  {
   "cell_type": "code",
   "execution_count": 160,
   "id": "56cdc56d",
   "metadata": {},
   "outputs": [],
   "source": [
    "nodes = {i:Node(dict_distribution[i],str(i)) for i in range(40)}"
   ]
  },
  {
   "cell_type": "code",
   "execution_count": 161,
   "id": "aa4824bb",
   "metadata": {},
   "outputs": [],
   "source": [
    "bayesnet = BayesianNetwork(\"network\")"
   ]
  },
  {
   "cell_type": "code",
   "execution_count": 162,
   "id": "cae1978c",
   "metadata": {},
   "outputs": [],
   "source": [
    "for i in range(40):\n",
    "    bayesnet.add_node(nodes[i])"
   ]
  },
  {
   "cell_type": "code",
   "execution_count": 163,
   "id": "276dff3e",
   "metadata": {},
   "outputs": [],
   "source": [
    "for i in range(40):\n",
    "    parents = dict_parent_node[i]\n",
    "    for x in parents:\n",
    "        bayesnet.add_edge(nodes[x],nodes[i])"
   ]
  },
  {
   "cell_type": "code",
   "execution_count": 164,
   "id": "908e6be0",
   "metadata": {},
   "outputs": [],
   "source": [
    "bayesnet.bake()"
   ]
  },
  {
   "cell_type": "code",
   "execution_count": 166,
   "id": "c822bd2b",
   "metadata": {},
   "outputs": [],
   "source": [
    "# with open('./data/reseau.json', 'w') as f:\n",
    "#     f.write(bayesnet.to_json())"
   ]
  },
  {
   "cell_type": "code",
   "execution_count": 167,
   "id": "7de1e6c5",
   "metadata": {},
   "outputs": [],
   "source": [
    "comb = list(itertools.combinations(range(40), 2))"
   ]
  },
  {
   "cell_type": "code",
   "execution_count": 168,
   "id": "d2b44544",
   "metadata": {},
   "outputs": [],
   "source": [
    "dict_comb_baye = {}"
   ]
  },
  {
   "cell_type": "code",
   "execution_count": 169,
   "id": "8ff629c9",
   "metadata": {},
   "outputs": [],
   "source": [
    "comb_baye = []"
   ]
  },
  {
   "cell_type": "code",
   "execution_count": 170,
   "id": "1b1a0310",
   "metadata": {},
   "outputs": [],
   "source": [
    "for x, y in comb:\n",
    "    arr1 = []\n",
    "    arr2 = []\n",
    "    arr3 = []\n",
    "    arr4 = []\n",
    "    for i in range(0,x):\n",
    "        arr1.append(None)\n",
    "        arr2.append(None)\n",
    "        arr3.append(None)\n",
    "        arr4.append(None)\n",
    "    arr1.append(0)\n",
    "    arr2.append(0)\n",
    "    arr3.append(1)\n",
    "    arr4.append(1)\n",
    "    for i in range(x+1,y):\n",
    "        arr1.append(None)\n",
    "        arr2.append(None)\n",
    "        arr3.append(None)\n",
    "        arr4.append(None)\n",
    "    arr1.append(0)\n",
    "    arr2.append(1)\n",
    "    arr3.append(0)\n",
    "    arr4.append(1)\n",
    "    for i in range(y,39):\n",
    "        arr1.append(None)\n",
    "        arr2.append(None)\n",
    "        arr3.append(None)\n",
    "        arr4.append(None)\n",
    "    comb_baye.append([arr1,arr2,arr3,arr4])"
   ]
  },
  {
   "cell_type": "code",
   "execution_count": 171,
   "id": "774ede95",
   "metadata": {
    "scrolled": false
   },
   "outputs": [],
   "source": [
    "# print(comb_baye[779])"
   ]
  },
  {
   "cell_type": "code",
   "execution_count": 172,
   "id": "5ef25fbc",
   "metadata": {},
   "outputs": [],
   "source": [
    "# print(comb_baye[0])"
   ]
  },
  {
   "cell_type": "code",
   "execution_count": 173,
   "id": "0fb25480",
   "metadata": {},
   "outputs": [
    {
     "name": "stdout",
     "output_type": "stream",
     "text": [
      "Everything is running fine!\n",
      "==========================\n",
      "End\n"
     ]
    }
   ],
   "source": [
    "print(\"Everything is running fine!\")\n",
    "print(\"==========================\")\n",
    "print(\"End\")"
   ]
  },
  {
   "cell_type": "code",
   "execution_count": null,
   "id": "e02edb10",
   "metadata": {},
   "outputs": [],
   "source": []
  }
 ],
 "metadata": {
  "kernelspec": {
   "display_name": "Python 3 (ipykernel)",
   "language": "python",
   "name": "python3"
  },
  "language_info": {
   "codemirror_mode": {
    "name": "ipython",
    "version": 3
   },
   "file_extension": ".py",
   "mimetype": "text/x-python",
   "name": "python",
   "nbconvert_exporter": "python",
   "pygments_lexer": "ipython3",
   "version": "3.9.5"
  }
 },
 "nbformat": 4,
 "nbformat_minor": 5
}
